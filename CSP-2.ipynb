{
 "cells": [
  {
   "cell_type": "code",
   "execution_count": 4,
   "id": "522cfb60",
   "metadata": {},
   "outputs": [],
   "source": [
    "import pandas as pd\n",
    "import numpy as np\n",
    "import matplotlib.pyplot as plt\n",
    "import seaborn as sns\n",
    "import copy\n",
    "from sklearn.preprocessing import StandardScaler\n",
    "from sklearn.svm import SVC\n",
    "from sklearn.model_selection import train_test_split "
   ]
  },
  {
   "cell_type": "markdown",
   "id": "5797abdf",
   "metadata": {},
   "source": []
  },
  {
   "cell_type": "code",
   "execution_count": 5,
   "id": "19088d3e",
   "metadata": {},
   "outputs": [],
   "source": [
    "data=pd.read_csv('csp.csv')"
   ]
  },
  {
   "cell_type": "code",
   "execution_count": 6,
   "id": "edd34229",
   "metadata": {},
   "outputs": [
    {
     "data": {
      "text/html": [
       "<div>\n",
       "<style scoped>\n",
       "    .dataframe tbody tr th:only-of-type {\n",
       "        vertical-align: middle;\n",
       "    }\n",
       "\n",
       "    .dataframe tbody tr th {\n",
       "        vertical-align: top;\n",
       "    }\n",
       "\n",
       "    .dataframe thead th {\n",
       "        text-align: right;\n",
       "    }\n",
       "</style>\n",
       "<table border=\"1\" class=\"dataframe\">\n",
       "  <thead>\n",
       "    <tr style=\"text-align: right;\">\n",
       "      <th></th>\n",
       "      <th>property_age</th>\n",
       "      <th>property_type</th>\n",
       "      <th>property_size_sqft</th>\n",
       "      <th>num_rooms</th>\n",
       "      <th>num_bathrooms</th>\n",
       "      <th>location_area</th>\n",
       "      <th>avg_market_price_per_sqft</th>\n",
       "      <th>requested_price</th>\n",
       "      <th>loan_to_value_ratio</th>\n",
       "      <th>approval_status</th>\n",
       "    </tr>\n",
       "  </thead>\n",
       "  <tbody>\n",
       "    <tr>\n",
       "      <th>0</th>\n",
       "      <td>16</td>\n",
       "      <td>Apartment</td>\n",
       "      <td>3041</td>\n",
       "      <td>1</td>\n",
       "      <td>1</td>\n",
       "      <td>Gopanpally</td>\n",
       "      <td>19774.24</td>\n",
       "      <td>60133453.41</td>\n",
       "      <td>67.69</td>\n",
       "      <td>1</td>\n",
       "    </tr>\n",
       "    <tr>\n",
       "      <th>1</th>\n",
       "      <td>7</td>\n",
       "      <td>Apartment</td>\n",
       "      <td>2167</td>\n",
       "      <td>4</td>\n",
       "      <td>2</td>\n",
       "      <td>Banjara Hills</td>\n",
       "      <td>12466.35</td>\n",
       "      <td>27014584.37</td>\n",
       "      <td>83.73</td>\n",
       "      <td>0</td>\n",
       "    </tr>\n",
       "    <tr>\n",
       "      <th>2</th>\n",
       "      <td>34</td>\n",
       "      <td>Apartment</td>\n",
       "      <td>1825</td>\n",
       "      <td>6</td>\n",
       "      <td>2</td>\n",
       "      <td>Moula Ali</td>\n",
       "      <td>18849.44</td>\n",
       "      <td>34400230.42</td>\n",
       "      <td>55.88</td>\n",
       "      <td>1</td>\n",
       "    </tr>\n",
       "    <tr>\n",
       "      <th>3</th>\n",
       "      <td>30</td>\n",
       "      <td>Independent House</td>\n",
       "      <td>993</td>\n",
       "      <td>3</td>\n",
       "      <td>5</td>\n",
       "      <td>Rampally</td>\n",
       "      <td>9076.77</td>\n",
       "      <td>9013235.32</td>\n",
       "      <td>65.36</td>\n",
       "      <td>0</td>\n",
       "    </tr>\n",
       "    <tr>\n",
       "      <th>4</th>\n",
       "      <td>33</td>\n",
       "      <td>Apartment</td>\n",
       "      <td>4652</td>\n",
       "      <td>5</td>\n",
       "      <td>4</td>\n",
       "      <td>Kandukur</td>\n",
       "      <td>16186.66</td>\n",
       "      <td>75300357.92</td>\n",
       "      <td>76.70</td>\n",
       "      <td>1</td>\n",
       "    </tr>\n",
       "    <tr>\n",
       "      <th>...</th>\n",
       "      <td>...</td>\n",
       "      <td>...</td>\n",
       "      <td>...</td>\n",
       "      <td>...</td>\n",
       "      <td>...</td>\n",
       "      <td>...</td>\n",
       "      <td>...</td>\n",
       "      <td>...</td>\n",
       "      <td>...</td>\n",
       "      <td>...</td>\n",
       "    </tr>\n",
       "    <tr>\n",
       "      <th>4994</th>\n",
       "      <td>15</td>\n",
       "      <td>Independent House</td>\n",
       "      <td>1658</td>\n",
       "      <td>1</td>\n",
       "      <td>3</td>\n",
       "      <td>Shabad</td>\n",
       "      <td>7408.67</td>\n",
       "      <td>12283566.65</td>\n",
       "      <td>83.91</td>\n",
       "      <td>0</td>\n",
       "    </tr>\n",
       "    <tr>\n",
       "      <th>4995</th>\n",
       "      <td>47</td>\n",
       "      <td>Villa</td>\n",
       "      <td>4544</td>\n",
       "      <td>1</td>\n",
       "      <td>2</td>\n",
       "      <td>Manikonda</td>\n",
       "      <td>15802.32</td>\n",
       "      <td>71805727.96</td>\n",
       "      <td>61.35</td>\n",
       "      <td>1</td>\n",
       "    </tr>\n",
       "    <tr>\n",
       "      <th>4996</th>\n",
       "      <td>46</td>\n",
       "      <td>Villa</td>\n",
       "      <td>2573</td>\n",
       "      <td>2</td>\n",
       "      <td>1</td>\n",
       "      <td>Choutuppal</td>\n",
       "      <td>19602.36</td>\n",
       "      <td>50436869.96</td>\n",
       "      <td>54.86</td>\n",
       "      <td>0</td>\n",
       "    </tr>\n",
       "    <tr>\n",
       "      <th>4997</th>\n",
       "      <td>31</td>\n",
       "      <td>Independent House</td>\n",
       "      <td>3354</td>\n",
       "      <td>6</td>\n",
       "      <td>2</td>\n",
       "      <td>Manikonda</td>\n",
       "      <td>6552.59</td>\n",
       "      <td>21977374.65</td>\n",
       "      <td>74.27</td>\n",
       "      <td>0</td>\n",
       "    </tr>\n",
       "    <tr>\n",
       "      <th>4998</th>\n",
       "      <td>39</td>\n",
       "      <td>Villa</td>\n",
       "      <td>3291</td>\n",
       "      <td>5</td>\n",
       "      <td>4</td>\n",
       "      <td>Kollur</td>\n",
       "      <td>3972.26</td>\n",
       "      <td>13072702.82</td>\n",
       "      <td>54.74</td>\n",
       "      <td>1</td>\n",
       "    </tr>\n",
       "  </tbody>\n",
       "</table>\n",
       "<p>4999 rows × 10 columns</p>\n",
       "</div>"
      ],
      "text/plain": [
       "      property_age      property_type  property_size_sqft  num_rooms  \\\n",
       "0               16          Apartment                3041          1   \n",
       "1                7          Apartment                2167          4   \n",
       "2               34          Apartment                1825          6   \n",
       "3               30  Independent House                 993          3   \n",
       "4               33          Apartment                4652          5   \n",
       "...            ...                ...                 ...        ...   \n",
       "4994            15  Independent House                1658          1   \n",
       "4995            47              Villa                4544          1   \n",
       "4996            46              Villa                2573          2   \n",
       "4997            31  Independent House                3354          6   \n",
       "4998            39              Villa                3291          5   \n",
       "\n",
       "      num_bathrooms  location_area  avg_market_price_per_sqft  \\\n",
       "0                 1     Gopanpally                   19774.24   \n",
       "1                 2  Banjara Hills                   12466.35   \n",
       "2                 2      Moula Ali                   18849.44   \n",
       "3                 5       Rampally                    9076.77   \n",
       "4                 4       Kandukur                   16186.66   \n",
       "...             ...            ...                        ...   \n",
       "4994              3         Shabad                    7408.67   \n",
       "4995              2      Manikonda                   15802.32   \n",
       "4996              1     Choutuppal                   19602.36   \n",
       "4997              2      Manikonda                    6552.59   \n",
       "4998              4         Kollur                    3972.26   \n",
       "\n",
       "      requested_price  loan_to_value_ratio  approval_status  \n",
       "0         60133453.41                67.69                1  \n",
       "1         27014584.37                83.73                0  \n",
       "2         34400230.42                55.88                1  \n",
       "3          9013235.32                65.36                0  \n",
       "4         75300357.92                76.70                1  \n",
       "...               ...                  ...              ...  \n",
       "4994      12283566.65                83.91                0  \n",
       "4995      71805727.96                61.35                1  \n",
       "4996      50436869.96                54.86                0  \n",
       "4997      21977374.65                74.27                0  \n",
       "4998      13072702.82                54.74                1  \n",
       "\n",
       "[4999 rows x 10 columns]"
      ]
     },
     "execution_count": 6,
     "metadata": {},
     "output_type": "execute_result"
    }
   ],
   "source": [
    "data"
   ]
  },
  {
   "cell_type": "code",
   "execution_count": 7,
   "id": "6e910627",
   "metadata": {},
   "outputs": [
    {
     "data": {
      "text/plain": [
       "ECIL             108\n",
       "Ghatkesar        102\n",
       "Kapra             96\n",
       "Alwal             91\n",
       "Malkajgiri        91\n",
       "                ... \n",
       "Koheda            39\n",
       "Medchal           38\n",
       "Nawabpet          37\n",
       "Rajendranagar     37\n",
       "Chengicherla      35\n",
       "Name: location_area, Length: 99, dtype: int64"
      ]
     },
     "execution_count": 7,
     "metadata": {},
     "output_type": "execute_result"
    }
   ],
   "source": [
    "data['location_area'].value_counts()"
   ]
  },
  {
   "cell_type": "code",
   "execution_count": 8,
   "id": "0c0c06ee",
   "metadata": {},
   "outputs": [
    {
     "data": {
      "text/plain": [
       "1    2644\n",
       "0    2355\n",
       "Name: approval_status, dtype: int64"
      ]
     },
     "execution_count": 8,
     "metadata": {},
     "output_type": "execute_result"
    }
   ],
   "source": [
    "data['approval_status'].value_counts()"
   ]
  },
  {
   "cell_type": "code",
   "execution_count": 7,
   "id": "a54e0fa8",
   "metadata": {},
   "outputs": [
    {
     "data": {
      "text/plain": [
       "False"
      ]
     },
     "execution_count": 7,
     "metadata": {},
     "output_type": "execute_result"
    }
   ],
   "source": [
    "data.isna().any().any()"
   ]
  },
  {
   "cell_type": "code",
   "execution_count": 8,
   "id": "ec46d0b6",
   "metadata": {},
   "outputs": [
    {
     "data": {
      "image/png": "[encoded data removed]",
      "text/plain": [
       "<Figure size 640x480 with 1 Axes>"
      ]
     },
     "metadata": {},
     "output_type": "display_data"
    }
   ],
   "source": [
    "cl1=data[data['approval_status']==1][0:200]\n",
    "cl2=data[data['approval_status']==0][0:200]\n",
    "a=cl1.plot(kind='scatter',x='property_size_sqft',y='requested_price',color='blue',label='Yes')\n",
    "cl2.plot(kind='scatter',x='property_size_sqft',y='requested_price',color='red',label='No',ax=a)\n",
    "plt.title(\"Scatter Plot of Property Size Vs Price\")\n",
    "plt.legend()\n",
    "plt.show()"
   ]
  },
  {
   "cell_type": "code",
   "execution_count": 9,
   "id": "16266dc6",
   "metadata": {},
   "outputs": [],
   "source": [
    "def one_hot_encode(df,column_dict):\n",
    "    df=df.copy()\n",
    "    for column ,prefix in column_dict.items():\n",
    "        dummies=pd.get_dummies(df[column], prefix=prefix)\n",
    "        df=pd.concat([df,dummies],axis=1)\n",
    "        df=df.drop(column,axis=1)\n",
    "    \n",
    "    return df"
   ]
  },
  {
   "cell_type": "code",
   "execution_count": 2,
   "id": "e596fd52",
   "metadata": {},
   "outputs": [],
   "source": [
    "def preprocess_inputs(df):\n",
    "    df=df.copy()\n",
    "    nominal_feature_dict={\n",
    "        'property_type':'Property Type',\n",
    "        'location_area':'Location Area'\n",
    "    }\n",
    "\n",
    "    df=one_hot_encode(df,nominal_feature_dict)\n",
    " \n",
    "\n",
    "    y=df['approval_status'].copy()\n",
    "    X=df.drop('approval_status',axis=1).copy()\n",
    "    \n",
    "    X_train,X_test,y_train,y_test= train_test_split(X,y,train_size=0.5,random_state=123)\n",
    "    print(X_train)\n",
    "   \n",
    "    scaler=StandardScaler()\n",
    "    scaler.fit(X_train)\n",
    "    \n",
    "    X_train=pd.DataFrame(scaler.transform(X_train),columns=X_train.columns)\n",
    "    X_test=pd.DataFrame(scaler.transform(X_test),columns=X_test.columns)\n",
    "    return X_train,X_test,y_train,y_test\n",
    "\n",
    "    "
   ]
  },
  {
   "cell_type": "code",
   "execution_count": 3,
   "id": "169992f3",
   "metadata": {
    "scrolled": true
   },
   "outputs": [
    {
     "ename": "NameError",
     "evalue": "name 'data' is not defined",
     "output_type": "error",
     "traceback": [
      "\u001b[1;31m---------------------------------------------------------------------------\u001b[0m",
      "\u001b[1;31mNameError\u001b[0m                                 Traceback (most recent call last)",
      "\u001b[1;32m~\\AppData\\Local\\Temp\\ipykernel_22688\\521580299.py\u001b[0m in \u001b[0;36m<module>\u001b[1;34m\u001b[0m\n\u001b[1;32m----> 1\u001b[1;33m \u001b[0mX_train\u001b[0m\u001b[1;33m,\u001b[0m\u001b[0mX_test\u001b[0m\u001b[1;33m,\u001b[0m\u001b[0my_train\u001b[0m\u001b[1;33m,\u001b[0m\u001b[0my_test\u001b[0m\u001b[1;33m=\u001b[0m\u001b[0mpreprocess_inputs\u001b[0m\u001b[1;33m(\u001b[0m\u001b[0mdata\u001b[0m\u001b[1;33m)\u001b[0m\u001b[1;33m\u001b[0m\u001b[1;33m\u001b[0m\u001b[0m\n\u001b[0m",
      "\u001b[1;31mNameError\u001b[0m: name 'data' is not defined"
     ]
    }
   ],
   "source": [
    "X_train,X_test,y_train,y_test=preprocess_inputs(data)\n"
   ]
  },
  {
   "cell_type": "code",
   "execution_count": 1,
   "id": "e705397d",
   "metadata": {},
   "outputs": [
    {
     "ename": "NameError",
     "evalue": "name 'X_train' is not defined",
     "output_type": "error",
     "traceback": [
      "\u001b[1;31m---------------------------------------------------------------------------\u001b[0m",
      "\u001b[1;31mNameError\u001b[0m                                 Traceback (most recent call last)",
      "\u001b[1;32m~\\AppData\\Local\\Temp\\ipykernel_22688\\4244580788.py\u001b[0m in \u001b[0;36m<module>\u001b[1;34m\u001b[0m\n\u001b[1;32m----> 1\u001b[1;33m \u001b[0mX_train\u001b[0m\u001b[1;33m\u001b[0m\u001b[1;33m\u001b[0m\u001b[0m\n\u001b[0m",
      "\u001b[1;31mNameError\u001b[0m: name 'X_train' is not defined"
     ]
    }
   ],
   "source": [
    "X_train\n"
   ]
  },
  {
   "cell_type": "code",
   "execution_count": 13,
   "id": "0907e56a",
   "metadata": {},
   "outputs": [],
   "source": [
    "from sklearn.model_selection import GridSearchCV\n",
    "\n",
    "param_grid = {\n",
    "    'C': [0.1, 1, 10],  \n",
    "    'gamma': ['scale', 0.1, 0.01, 0.001],  \n",
    "    'kernel': ['rbf', 'linear','sigmoid','poly']\n",
    "}\n"
   ]
  },
  {
   "cell_type": "code",
   "execution_count": 38,
   "id": "30dd21b0",
   "metadata": {},
   "outputs": [
    {
     "name": "stdout",
     "output_type": "stream",
     "text": [
      "Best Parameters: {'C': 0.1, 'gamma': 'scale', 'kernel': 'sigmoid'}\n"
     ]
    }
   ],
   "source": [
    "grid_search = GridSearchCV(SVC(), param_grid, cv=5, scoring='accuracy')\n",
    "grid_search.fit(X_train, y_train)\n",
    "\n",
    "print(\"Best Parameters:\", grid_search.best_params_)"
   ]
  },
  {
   "cell_type": "code",
   "execution_count": 25,
   "id": "e4bd53ad",
   "metadata": {},
   "outputs": [],
   "source": [
    "svm_best = SVC(**grid_search.best_params_)\n",
    "svm_best.fit(X_train, y_train)\n",
    "y_pred = svm_best.predict(X_test)"
   ]
  },
  {
   "cell_type": "code",
   "execution_count": 34,
   "id": "e00f2b25",
   "metadata": {},
   "outputs": [
    {
     "name": "stdout",
     "output_type": "stream",
     "text": [
      "SVM Model Accuracy: 0.70\n",
      "              precision    recall  f1-score   support\n",
      "\n",
      "           0       0.72      0.63      0.67      1205\n",
      "           1       0.69      0.77      0.73      1295\n",
      "\n",
      "    accuracy                           0.70      2500\n",
      "   macro avg       0.70      0.70      0.70      2500\n",
      "weighted avg       0.70      0.70      0.70      2500\n",
      "\n"
     ]
    }
   ],
   "source": [
    "from sklearn.metrics import accuracy_score\n",
    "from sklearn.metrics import classification_report\n",
    "\n",
    "y_pred = svm_best.predict(X_test)\n",
    "accuracy = accuracy_score(y_test, y_pred)\n",
    "\n",
    "print(f\"SVM Model Accuracy: {accuracy :.2f}\")\n",
    "print(classification_report(y_test, y_pred))\n"
   ]
  },
  {
   "cell_type": "code",
   "execution_count": 42,
   "id": "b1633ff9",
   "metadata": {},
   "outputs": [
    {
     "data": {
      "image/png": "[encoded data removed]",
      "text/plain": [
       "<Figure size 500x400 with 2 Axes>"
      ]
     },
     "metadata": {},
     "output_type": "display_data"
    }
   ],
   "source": [
    "from sklearn.metrics import confusion_matrix\n",
    "import seaborn as sns\n",
    "\n",
    "y_pred = svm_best.predict(X_test) \n",
    "cm = confusion_matrix(y_test, y_pred)\n",
    "\n",
    "plt.figure(figsize=(5, 4))\n",
    "sns.heatmap(cm, annot=True, fmt=\"d\", cmap=\"Blues\")\n",
    "plt.xlabel(\"Predicted Label\")\n",
    "plt.ylabel(\"True Label\")\n",
    "plt.title(\"Confusion Matrix\")\n",
    "plt.show()\n"
   ]
  },
  {
   "cell_type": "code",
   "execution_count": null,
   "id": "2f085eeb",
   "metadata": {},
   "outputs": [],
   "source": []
  }
 ],
 "metadata": {
  "kernelspec": {
   "display_name": "Python 3 (ipykernel)",
   "language": "python",
   "name": "python3"
  },
  "language_info": {
   "codemirror_mode": {
    "name": "ipython",
    "version": 3
   },
   "file_extension": ".py",
   "mimetype": "text/x-python",
   "name": "python",
   "nbconvert_exporter": "python",
   "pygments_lexer": "ipython3",
   "version": "3.9.13"
  }
 },
 "nbformat": 4,
 "nbformat_minor": 5
}
